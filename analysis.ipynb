{
 "cells": [
  {
   "cell_type": "code",
   "execution_count": 6,
   "metadata": {},
   "outputs": [
    {
     "data": {
      "text/plain": [
       "{'display_name': 'Econ CS',\n",
       " 'external_urls': {'spotify': 'https://open.spotify.com/user/31zg56o7tcu4zmjl4z3x6ybjpzta'},\n",
       " 'href': 'https://api.spotify.com/v1/users/31zg56o7tcu4zmjl4z3x6ybjpzta',\n",
       " 'id': '31zg56o7tcu4zmjl4z3x6ybjpzta',\n",
       " 'images': [],\n",
       " 'type': 'user',\n",
       " 'uri': 'spotify:user:31zg56o7tcu4zmjl4z3x6ybjpzta',\n",
       " 'followers': {'href': None, 'total': 0},\n",
       " 'country': 'US',\n",
       " 'product': 'free',\n",
       " 'explicit_content': {'filter_enabled': False, 'filter_locked': False},\n",
       " 'email': 'econcs64@gmail.com'}"
      ]
     },
     "execution_count": 6,
     "metadata": {},
     "output_type": "execute_result"
    }
   ],
   "source": [
    "import spotipy\n",
    "from spotipy.oauth2 import SpotifyOAuth\n",
    "\n",
    "\"\"\"\n",
    "INITIALIZATION\n",
    "\"\"\"\n",
    "\n",
    "SPOTIPY_CLIENT_ID = \"85816da4a02e45d7a630906b2f0da859\"\n",
    "SPOTIPY_CLIENT_SECRET = \"01500d918db344f781fa5a1e5600176e\"\n",
    "REDIRECT_URL = \"http://localhost:3000/callback\"\n",
    "\n",
    "scope= \" \".join([\n",
    "    \"ugc-image-upload\",\n",
    "    \"user-read-recently-played\",\n",
    "    \"user-top-read\",\n",
    "    \"user-read-playback-position\",\n",
    "    \"user-read-playback-state\",\n",
    "    \"user-modify-playback-state\",\n",
    "    \"user-read-currently-playing\",\n",
    "    \"app-remote-control\",\n",
    "    \"streaming\",\n",
    "    \"playlist-modify-public\",\n",
    "    \"playlist-modify-private\",\n",
    "    \"playlist-read-private\",\n",
    "    \"playlist-read-collaborative\",\n",
    "    \"user-follow-modify\",\n",
    "    \"user-follow-read\",\n",
    "    \"user-library-modify\",\n",
    "    \"user-library-read\",\n",
    "    \"user-read-email\",\n",
    "    \"user-read-private\"\n",
    "])\n",
    "\n",
    "sp = spotipy.Spotify(auth_manager=SpotifyOAuth(scope=scope, client_id=SPOTIPY_CLIENT_ID, client_secret=SPOTIPY_CLIENT_SECRET, redirect_uri=REDIRECT_URL))\n",
    "\n",
    "current_user = sp.current_user()\n",
    "current_user"
   ]
  },
  {
   "cell_type": "code",
   "execution_count": 23,
   "metadata": {},
   "outputs": [
    {
     "name": "stdout",
     "output_type": "stream",
     "text": [
      "Track ID: 1vrd6UOGamcKNGnSHJQlSt\n"
     ]
    },
    {
     "data": {
      "text/plain": [
       "[{'danceability': 0.294,\n",
       "  'energy': 0.641,\n",
       "  'key': 11,\n",
       "  'loudness': -9.316,\n",
       "  'mode': 1,\n",
       "  'speechiness': 0.0291,\n",
       "  'acousticness': 0.0163,\n",
       "  'instrumentalness': 0.22,\n",
       "  'liveness': 0.112,\n",
       "  'valence': 0.226,\n",
       "  'tempo': 79.759,\n",
       "  'type': 'audio_features',\n",
       "  'id': '3YRCqOhFifThpSRFJ1VWFM',\n",
       "  'uri': 'spotify:track:3YRCqOhFifThpSRFJ1VWFM',\n",
       "  'track_href': 'https://api.spotify.com/v1/tracks/3YRCqOhFifThpSRFJ1VWFM',\n",
       "  'analysis_url': 'https://api.spotify.com/v1/audio-analysis/3YRCqOhFifThpSRFJ1VWFM',\n",
       "  'duration_ms': 536067,\n",
       "  'time_signature': 4}]"
      ]
     },
     "execution_count": 23,
     "metadata": {},
     "output_type": "execute_result"
    }
   ],
   "source": [
    "\"\"\"\n",
    "FIND TRACK ID \n",
    "\"\"\"\n",
    "track_name = \"Love Story\"\n",
    "# artist_name = \"Metallica\"  # Optional, but helps narrow down the search\n",
    "results = sp.search(q='track:' + track_name, type='track')\n",
    "\n",
    "# Extract the Track ID\n",
    "if results['tracks']['items']:\n",
    "    # Assuming the first search result is the correct track\n",
    "    track_id = results['tracks']['items'][0]['id']\n",
    "    print(f\"Track ID: {track_id}\")\n",
    "else:\n",
    "    print(\"No results found.\")\n",
    "    \n",
    "\n",
    "\"\"\"\n",
    "FIND TRACK INFO\n",
    "\"\"\"\n",
    "\n",
    "sp.audio_features([\"3YRCqOhFifThpSRFJ1VWFM\"])"
   ]
  },
  {
   "cell_type": "code",
   "execution_count": 16,
   "metadata": {},
   "outputs": [
    {
     "name": "stdout",
     "output_type": "stream",
     "text": [
      "Tempo: 120.009 - Energy: 0.605 - Genres: \n",
      "Tempo: 119.972 - Energy: 0.595 - Genres: pop\n",
      "Tempo: 120.039 - Energy: 0.609 - Genres: alt z, norwegian pop, pop, uk pop\n",
      "Tempo: 120.052 - Energy: 0.579 - Genres: chillwave, denton tx indie, hypnagogic pop, indietronica, neo-synthpop\n",
      "Tempo: 121.02 - Energy: 0.608 - Genres: belgian edm, edm, pop dance, tropical house\n",
      "Tempo: 119.992 - Energy: 0.574 - Genres: hip pop, r&b, trap queen, urban contemporary\n",
      "Tempo: 120.021 - Energy: 0.58 - Genres: canadian pop, dance pop, pop\n",
      "Tempo: 120.97 - Energy: 0.586 - Genres: pop, uk dance, uk funky\n",
      "Tempo: 122.062 - Energy: 0.612 - Genres: permanent wave, pop\n",
      "Tempo: 121.079 - Energy: 0.617 - Genres: pov: indie\n",
      "Tempo: 122.005 - Energy: 0.582 - Genres: art pop, baroque pop, dance-punk, elephant 6, indie rock, lo-fi, noise pop\n",
      "Tempo: 120.963 - Energy: 0.627 - Genres: pop, uk pop\n",
      "Tempo: 120.021 - Energy: 0.655 - Genres: alternative hip hop, escape room, hip hop, political hip hop\n",
      "Tempo: 119.247 - Energy: 0.559 - Genres: australian dance, australian electropop, australian indie, downtempo, edm, indietronica\n",
      "Tempo: 117.959 - Energy: 0.624 - Genres: dance pop, pop, uk pop\n",
      "Tempo: 117.024 - Energy: 0.609 - Genres: bedroom pop\n",
      "Tempo: 120.071 - Energy: 0.545 - Genres: modern alternative rock, modern rock, pop\n",
      "Tempo: 120.617 - Energy: 0.66 - Genres: alternative country, alternative rock, chicago indie, indie rock, roots rock, stomp and holler\n",
      "Tempo: 119.859 - Energy: 0.566 - Genres: r&b\n",
      "Tempo: 119.94 - Energy: 0.539 - Genres: electronica, trip hop\n"
     ]
    }
   ],
   "source": [
    "# Define your target tempo\n",
    "target_genres = ['pop']\n",
    "target_tempo = 120  # Example tempo\n",
    "target_energy = 0.6\n",
    "# Get recommendations\n",
    "recommendations = sp.recommendations(seed_genres=target_genres, target_tempo=target_tempo, target_energy=target_energy)\n",
    "\n",
    "# Extract track IDs and artist IDs from the recommendations\n",
    "track_ids = [track['id'] for track in recommendations['tracks']]\n",
    "artist_ids = [track['artists'][0]['id'] for track in recommendations['tracks']]\n",
    "\n",
    "# Fetch audio features for these tracks\n",
    "audio_features = sp.audio_features(track_ids)\n",
    "\n",
    "# Fetch genres for the artists\n",
    "artists = sp.artists(artist_ids)\n",
    "\n",
    "# Print out the name, artist, tempo, and genres for each track\n",
    "for track, features, artist in zip(recommendations['tracks'], audio_features, artists['artists']):\n",
    "    track_name = track['name']\n",
    "    artist_name = track['artists'][0]['name']\n",
    "    tempo = features['tempo']\n",
    "    energy = features['energy']\n",
    "    genres = ', '.join(artist['genres'])  # Joining all genres into a single string\n",
    "    print(f\"Tempo: {tempo} - Energy: {energy} - Genres: {genres}\")"
   ]
  },
  {
   "cell_type": "code",
   "execution_count": 19,
   "metadata": {},
   "outputs": [
    {
     "name": "stdout",
     "output_type": "stream",
     "text": [
      "Track: Sugar (feat. Francesco Yates) - Features Vector: [0.0185, 0.636, 0.815, 0, 5, 0.163, -5.098, 0.0581, 123.063, 0.636]\n",
      "Track: Shotgun - Features Vector: [0.286, 0.673, 0.735, 0, 5, 0.242, -4.733, 0.0457, 115.744, 0.754]\n",
      "Track: Stay - Features Vector: [0.253, 0.69, 0.622, 0, 5, 0.113, -5.025, 0.063, 102.039, 0.543]\n",
      "Track: Swish Swish - Features Vector: [0.0184, 0.838, 0.705, 1.82e-05, 5, 0.102, -5.201, 0.0449, 119.953, 0.583]\n",
      "Track: More Than You Know - Features Vector: [0.0275, 0.646, 0.741, 0, 5, 0.312, -4.973, 0.034, 123.077, 0.571]\n",
      "Track: Wild Ones (feat. Sia) - Features Vector: [0.0991, 0.608, 0.86, 0, 5, 0.262, -5.324, 0.0554, 127.075, 0.437]\n",
      "Track: Drowning (feat. Kodak Black) - Features Vector: [0.501, 0.839, 0.81, 0, 5, 0.117, -5.274, 0.0568, 129.014, 0.814]\n",
      "Track: Just the Way You Are - Features Vector: [0.0134, 0.635, 0.841, 0, 5, 0.0622, -5.379, 0.0422, 109.021, 0.424]\n",
      "Track: What Lovers Do (feat. SZA) - Features Vector: [0.0788, 0.799, 0.597, 5.66e-06, 5, 0.1, -5.131, 0.0611, 110.001, 0.419]\n",
      "Track: Let You Down - Features Vector: [0.312, 0.662, 0.714, 0, 5, 0.179, -5.68, 0.121, 147.997, 0.464]\n"
     ]
    }
   ],
   "source": [
    "# Define target values for the features\n",
    "features_targets = {\n",
    "    'target_acousticness': 0.4,\n",
    "    'target_danceability': 0.7,\n",
    "    'target_energy': 0.8,\n",
    "    'target_instrumentalness': 0.0,\n",
    "    'target_key': 5,\n",
    "    'target_liveness': 0.1,\n",
    "    'target_loudness': -5.0,\n",
    "    'target_speechiness': 0.05,\n",
    "    'target_tempo': 120,\n",
    "    'target_valence': 0.5,\n",
    "    \n",
    "    'target_mode': 0,\n",
    "    'target_popularity': 0,\n",
    "}\n",
    "\n",
    "# Get recommendations based on the specified features\n",
    "recommendations = sp.recommendations(seed_genres=[\"pop\"], limit=10, **features_targets)\n",
    "\n",
    "# Extract track IDs from the recommendations\n",
    "track_ids = [track['id'] for track in recommendations['tracks']]\n",
    "\n",
    "# Fetch audio features for these tracks\n",
    "audio_features = sp.audio_features(track_ids)\n",
    "\n",
    "# Print out a vector of features for each track\n",
    "for track, features in zip(recommendations['tracks'], audio_features):\n",
    "    track_name = track['name']\n",
    "    features_vector = [\n",
    "        features['acousticness'],\n",
    "        features['danceability'],\n",
    "        features['energy'],\n",
    "        features['instrumentalness'],\n",
    "        features['key'],\n",
    "        features['liveness'],\n",
    "        features['loudness'],\n",
    "        features['speechiness'],\n",
    "        features['tempo'],\n",
    "        features['valence']\n",
    "    ]\n",
    "    print(f\"Track: {track_name} - Features Vector: {features_vector}\")"
   ]
  },
  {
   "cell_type": "code",
   "execution_count": null,
   "metadata": {},
   "outputs": [],
   "source": []
  }
 ],
 "metadata": {
  "kernelspec": {
   "display_name": "econcs",
   "language": "python",
   "name": "python3"
  },
  "language_info": {
   "codemirror_mode": {
    "name": "ipython",
    "version": 3
   },
   "file_extension": ".py",
   "mimetype": "text/x-python",
   "name": "python",
   "nbconvert_exporter": "python",
   "pygments_lexer": "ipython3",
   "version": "3.9.18"
  }
 },
 "nbformat": 4,
 "nbformat_minor": 2
}
