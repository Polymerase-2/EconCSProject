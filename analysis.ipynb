{
 "cells": [
  {
   "cell_type": "code",
   "execution_count": 295,
   "metadata": {},
   "outputs": [],
   "source": [
    "import spotipy\n",
    "import numpy as np \n",
    "import pandas as pd \n",
    "import matplotlib.pyplot as plt\n",
    "from scipy.stats import norm\n",
    "import time \n",
    "from spotipy.oauth2 import SpotifyClientCredentials\n",
    "import requests\n",
    "import urllib3\n",
    "\n",
    "\n",
    "session = requests.Session()\n",
    "retry = urllib3.Retry(\n",
    "    respect_retry_after_header=False\n",
    ")\n",
    "adapter = requests.adapters.HTTPAdapter(max_retries=retry)\n",
    "\n",
    "SPOTIPY_CLIENT_ID = \"ccad83571a5440b6a7294206ad34e175\"\n",
    "SPOTIPY_CLIENT_SECRET = \"3b0b1298f85a456b97dbd48617a94b96\"\n",
    "\n",
    "client_credentials_manager = SpotifyClientCredentials(client_id=SPOTIPY_CLIENT_ID, client_secret=SPOTIPY_CLIENT_SECRET)\n",
    "sp = spotipy.Spotify(retries=0, client_credentials_manager=client_credentials_manager, requests_session=session)\n"
   ]
  },
  {
   "cell_type": "code",
   "execution_count": 282,
   "metadata": {},
   "outputs": [
    {
     "name": "stdout",
     "output_type": "stream",
     "text": [
      "Track ID: 1vrd6UOGamcKNGnSHJQlSt\n"
     ]
    },
    {
     "data": {
      "text/plain": [
       "[{'danceability': 0.294,\n",
       "  'energy': 0.641,\n",
       "  'key': 11,\n",
       "  'loudness': -9.316,\n",
       "  'mode': 1,\n",
       "  'speechiness': 0.0291,\n",
       "  'acousticness': 0.0163,\n",
       "  'instrumentalness': 0.22,\n",
       "  'liveness': 0.112,\n",
       "  'valence': 0.226,\n",
       "  'tempo': 79.759,\n",
       "  'type': 'audio_features',\n",
       "  'id': '3YRCqOhFifThpSRFJ1VWFM',\n",
       "  'uri': 'spotify:track:3YRCqOhFifThpSRFJ1VWFM',\n",
       "  'track_href': 'https://api.spotify.com/v1/tracks/3YRCqOhFifThpSRFJ1VWFM',\n",
       "  'analysis_url': 'https://api.spotify.com/v1/audio-analysis/3YRCqOhFifThpSRFJ1VWFM',\n",
       "  'duration_ms': 536067,\n",
       "  'time_signature': 4}]"
      ]
     },
     "execution_count": 282,
     "metadata": {},
     "output_type": "execute_result"
    }
   ],
   "source": [
    "\"\"\"\n",
    "FIND TRACK ID \n",
    "\"\"\"\n",
    "track_name = \"Love Story\"\n",
    "# artist_name = \"Metallica\"  # Optional, but helps narrow down the search\n",
    "results = sp.search(q='track:' + track_name, type='track')\n",
    "\n",
    "# Extract the Track ID\n",
    "if results['tracks']['items']:\n",
    "    # Assuming the first search result is the correct track\n",
    "    track_id = results['tracks']['items'][0]['id']\n",
    "    print(f\"Track ID: {track_id}\")\n",
    "else:\n",
    "    print(\"No results found.\")\n",
    "    \n",
    "\n",
    "\"\"\"\n",
    "FIND TRACK INFO\n",
    "\"\"\"\n",
    "\n",
    "sp.audio_features([\"3YRCqOhFifThpSRFJ1VWFM\"])"
   ]
  },
  {
   "cell_type": "code",
   "execution_count": 267,
   "metadata": {},
   "outputs": [
    {
     "name": "stderr",
     "output_type": "stream",
     "text": [
      "Max Retries reached\n"
     ]
    },
    {
     "ename": "SpotifyException",
     "evalue": "http status: 429, code:-1 - /v1/recommendations?limit=10&seed_genres=pop&min_acousticness=0.45&max_acousticness=0.47&target_acousticness=0.4&target_danceability=0.7&target_duration_ms=0&target_energy=0.8&target_instrumentalness=0.0&target_key=5&target_liveness=0.1&target_loudness=-5.0&target_mode=0&target_popularity=0&target_speechiness=0.05&target_tempo=120&target_valence=0.5:\n Max Retries, reason: too many 429 error responses",
     "output_type": "error",
     "traceback": [
      "\u001b[0;31m---------------------------------------------------------------------------\u001b[0m",
      "\u001b[0;31mResponseError\u001b[0m                             Traceback (most recent call last)",
      "\u001b[0;31mResponseError\u001b[0m: too many 429 error responses",
      "\nThe above exception was the direct cause of the following exception:\n",
      "\u001b[0;31mMaxRetryError\u001b[0m                             Traceback (most recent call last)",
      "File \u001b[0;32m/opt/homebrew/anaconda3/envs/econcs/lib/python3.9/site-packages/requests/adapters.py:486\u001b[0m, in \u001b[0;36mHTTPAdapter.send\u001b[0;34m(self, request, stream, timeout, verify, cert, proxies)\u001b[0m\n\u001b[1;32m    485\u001b[0m \u001b[38;5;28;01mtry\u001b[39;00m:\n\u001b[0;32m--> 486\u001b[0m     resp \u001b[38;5;241m=\u001b[39m \u001b[43mconn\u001b[49m\u001b[38;5;241;43m.\u001b[39;49m\u001b[43murlopen\u001b[49m\u001b[43m(\u001b[49m\n\u001b[1;32m    487\u001b[0m \u001b[43m        \u001b[49m\u001b[43mmethod\u001b[49m\u001b[38;5;241;43m=\u001b[39;49m\u001b[43mrequest\u001b[49m\u001b[38;5;241;43m.\u001b[39;49m\u001b[43mmethod\u001b[49m\u001b[43m,\u001b[49m\n\u001b[1;32m    488\u001b[0m \u001b[43m        \u001b[49m\u001b[43murl\u001b[49m\u001b[38;5;241;43m=\u001b[39;49m\u001b[43murl\u001b[49m\u001b[43m,\u001b[49m\n\u001b[1;32m    489\u001b[0m \u001b[43m        \u001b[49m\u001b[43mbody\u001b[49m\u001b[38;5;241;43m=\u001b[39;49m\u001b[43mrequest\u001b[49m\u001b[38;5;241;43m.\u001b[39;49m\u001b[43mbody\u001b[49m\u001b[43m,\u001b[49m\n\u001b[1;32m    490\u001b[0m \u001b[43m        \u001b[49m\u001b[43mheaders\u001b[49m\u001b[38;5;241;43m=\u001b[39;49m\u001b[43mrequest\u001b[49m\u001b[38;5;241;43m.\u001b[39;49m\u001b[43mheaders\u001b[49m\u001b[43m,\u001b[49m\n\u001b[1;32m    491\u001b[0m \u001b[43m        \u001b[49m\u001b[43mredirect\u001b[49m\u001b[38;5;241;43m=\u001b[39;49m\u001b[38;5;28;43;01mFalse\u001b[39;49;00m\u001b[43m,\u001b[49m\n\u001b[1;32m    492\u001b[0m \u001b[43m        \u001b[49m\u001b[43massert_same_host\u001b[49m\u001b[38;5;241;43m=\u001b[39;49m\u001b[38;5;28;43;01mFalse\u001b[39;49;00m\u001b[43m,\u001b[49m\n\u001b[1;32m    493\u001b[0m \u001b[43m        \u001b[49m\u001b[43mpreload_content\u001b[49m\u001b[38;5;241;43m=\u001b[39;49m\u001b[38;5;28;43;01mFalse\u001b[39;49;00m\u001b[43m,\u001b[49m\n\u001b[1;32m    494\u001b[0m \u001b[43m        \u001b[49m\u001b[43mdecode_content\u001b[49m\u001b[38;5;241;43m=\u001b[39;49m\u001b[38;5;28;43;01mFalse\u001b[39;49;00m\u001b[43m,\u001b[49m\n\u001b[1;32m    495\u001b[0m \u001b[43m        \u001b[49m\u001b[43mretries\u001b[49m\u001b[38;5;241;43m=\u001b[39;49m\u001b[38;5;28;43mself\u001b[39;49m\u001b[38;5;241;43m.\u001b[39;49m\u001b[43mmax_retries\u001b[49m\u001b[43m,\u001b[49m\n\u001b[1;32m    496\u001b[0m \u001b[43m        \u001b[49m\u001b[43mtimeout\u001b[49m\u001b[38;5;241;43m=\u001b[39;49m\u001b[43mtimeout\u001b[49m\u001b[43m,\u001b[49m\n\u001b[1;32m    497\u001b[0m \u001b[43m        \u001b[49m\u001b[43mchunked\u001b[49m\u001b[38;5;241;43m=\u001b[39;49m\u001b[43mchunked\u001b[49m\u001b[43m,\u001b[49m\n\u001b[1;32m    498\u001b[0m \u001b[43m    \u001b[49m\u001b[43m)\u001b[49m\n\u001b[1;32m    500\u001b[0m \u001b[38;5;28;01mexcept\u001b[39;00m (ProtocolError, \u001b[38;5;167;01mOSError\u001b[39;00m) \u001b[38;5;28;01mas\u001b[39;00m err:\n",
      "File \u001b[0;32m/opt/homebrew/anaconda3/envs/econcs/lib/python3.9/site-packages/urllib3/connectionpool.py:938\u001b[0m, in \u001b[0;36mHTTPConnectionPool.urlopen\u001b[0;34m(self, method, url, body, headers, retries, redirect, assert_same_host, timeout, pool_timeout, release_conn, chunked, body_pos, preload_content, decode_content, **response_kw)\u001b[0m\n\u001b[1;32m    937\u001b[0m \u001b[38;5;28;01mtry\u001b[39;00m:\n\u001b[0;32m--> 938\u001b[0m     retries \u001b[38;5;241m=\u001b[39m \u001b[43mretries\u001b[49m\u001b[38;5;241;43m.\u001b[39;49m\u001b[43mincrement\u001b[49m\u001b[43m(\u001b[49m\u001b[43mmethod\u001b[49m\u001b[43m,\u001b[49m\u001b[43m \u001b[49m\u001b[43murl\u001b[49m\u001b[43m,\u001b[49m\u001b[43m \u001b[49m\u001b[43mresponse\u001b[49m\u001b[38;5;241;43m=\u001b[39;49m\u001b[43mresponse\u001b[49m\u001b[43m,\u001b[49m\u001b[43m \u001b[49m\u001b[43m_pool\u001b[49m\u001b[38;5;241;43m=\u001b[39;49m\u001b[38;5;28;43mself\u001b[39;49m\u001b[43m)\u001b[49m\n\u001b[1;32m    939\u001b[0m \u001b[38;5;28;01mexcept\u001b[39;00m MaxRetryError:\n",
      "File \u001b[0;32m/opt/homebrew/anaconda3/envs/econcs/lib/python3.9/site-packages/urllib3/util/retry.py:515\u001b[0m, in \u001b[0;36mRetry.increment\u001b[0;34m(self, method, url, response, error, _pool, _stacktrace)\u001b[0m\n\u001b[1;32m    514\u001b[0m     reason \u001b[38;5;241m=\u001b[39m error \u001b[38;5;129;01mor\u001b[39;00m ResponseError(cause)\n\u001b[0;32m--> 515\u001b[0m     \u001b[38;5;28;01mraise\u001b[39;00m MaxRetryError(_pool, url, reason) \u001b[38;5;28;01mfrom\u001b[39;00m \u001b[38;5;21;01mreason\u001b[39;00m  \u001b[38;5;66;03m# type: ignore[arg-type]\u001b[39;00m\n\u001b[1;32m    517\u001b[0m log\u001b[38;5;241m.\u001b[39mdebug(\u001b[38;5;124m\"\u001b[39m\u001b[38;5;124mIncremented Retry for (url=\u001b[39m\u001b[38;5;124m'\u001b[39m\u001b[38;5;132;01m%s\u001b[39;00m\u001b[38;5;124m'\u001b[39m\u001b[38;5;124m): \u001b[39m\u001b[38;5;132;01m%r\u001b[39;00m\u001b[38;5;124m\"\u001b[39m, url, new_retry)\n",
      "\u001b[0;31mMaxRetryError\u001b[0m: HTTPSConnectionPool(host='api.spotify.com', port=443): Max retries exceeded with url: /v1/recommendations?limit=10&seed_genres=pop&min_acousticness=0.45&max_acousticness=0.47&target_acousticness=0.4&target_danceability=0.7&target_duration_ms=0&target_energy=0.8&target_instrumentalness=0.0&target_key=5&target_liveness=0.1&target_loudness=-5.0&target_mode=0&target_popularity=0&target_speechiness=0.05&target_tempo=120&target_valence=0.5 (Caused by ResponseError('too many 429 error responses'))",
      "\nDuring handling of the above exception, another exception occurred:\n",
      "\u001b[0;31mRetryError\u001b[0m                                Traceback (most recent call last)",
      "File \u001b[0;32m/opt/homebrew/anaconda3/envs/econcs/lib/python3.9/site-packages/spotipy/client.py:266\u001b[0m, in \u001b[0;36mSpotify._internal_call\u001b[0;34m(self, method, url, payload, params)\u001b[0m\n\u001b[1;32m    265\u001b[0m \u001b[38;5;28;01mtry\u001b[39;00m:\n\u001b[0;32m--> 266\u001b[0m     response \u001b[38;5;241m=\u001b[39m \u001b[38;5;28;43mself\u001b[39;49m\u001b[38;5;241;43m.\u001b[39;49m\u001b[43m_session\u001b[49m\u001b[38;5;241;43m.\u001b[39;49m\u001b[43mrequest\u001b[49m\u001b[43m(\u001b[49m\n\u001b[1;32m    267\u001b[0m \u001b[43m        \u001b[49m\u001b[43mmethod\u001b[49m\u001b[43m,\u001b[49m\u001b[43m \u001b[49m\u001b[43murl\u001b[49m\u001b[43m,\u001b[49m\u001b[43m \u001b[49m\u001b[43mheaders\u001b[49m\u001b[38;5;241;43m=\u001b[39;49m\u001b[43mheaders\u001b[49m\u001b[43m,\u001b[49m\u001b[43m \u001b[49m\u001b[43mproxies\u001b[49m\u001b[38;5;241;43m=\u001b[39;49m\u001b[38;5;28;43mself\u001b[39;49m\u001b[38;5;241;43m.\u001b[39;49m\u001b[43mproxies\u001b[49m\u001b[43m,\u001b[49m\n\u001b[1;32m    268\u001b[0m \u001b[43m        \u001b[49m\u001b[43mtimeout\u001b[49m\u001b[38;5;241;43m=\u001b[39;49m\u001b[38;5;28;43mself\u001b[39;49m\u001b[38;5;241;43m.\u001b[39;49m\u001b[43mrequests_timeout\u001b[49m\u001b[43m,\u001b[49m\u001b[43m \u001b[49m\u001b[38;5;241;43m*\u001b[39;49m\u001b[38;5;241;43m*\u001b[39;49m\u001b[43margs\u001b[49m\n\u001b[1;32m    269\u001b[0m \u001b[43m    \u001b[49m\u001b[43m)\u001b[49m\n\u001b[1;32m    271\u001b[0m     response\u001b[38;5;241m.\u001b[39mraise_for_status()\n",
      "File \u001b[0;32m/opt/homebrew/anaconda3/envs/econcs/lib/python3.9/site-packages/requests/sessions.py:589\u001b[0m, in \u001b[0;36mSession.request\u001b[0;34m(self, method, url, params, data, headers, cookies, files, auth, timeout, allow_redirects, proxies, hooks, stream, verify, cert, json)\u001b[0m\n\u001b[1;32m    588\u001b[0m send_kwargs\u001b[38;5;241m.\u001b[39mupdate(settings)\n\u001b[0;32m--> 589\u001b[0m resp \u001b[38;5;241m=\u001b[39m \u001b[38;5;28;43mself\u001b[39;49m\u001b[38;5;241;43m.\u001b[39;49m\u001b[43msend\u001b[49m\u001b[43m(\u001b[49m\u001b[43mprep\u001b[49m\u001b[43m,\u001b[49m\u001b[43m \u001b[49m\u001b[38;5;241;43m*\u001b[39;49m\u001b[38;5;241;43m*\u001b[39;49m\u001b[43msend_kwargs\u001b[49m\u001b[43m)\u001b[49m\n\u001b[1;32m    591\u001b[0m \u001b[38;5;28;01mreturn\u001b[39;00m resp\n",
      "File \u001b[0;32m/opt/homebrew/anaconda3/envs/econcs/lib/python3.9/site-packages/requests/sessions.py:703\u001b[0m, in \u001b[0;36mSession.send\u001b[0;34m(self, request, **kwargs)\u001b[0m\n\u001b[1;32m    702\u001b[0m \u001b[38;5;66;03m# Send the request\u001b[39;00m\n\u001b[0;32m--> 703\u001b[0m r \u001b[38;5;241m=\u001b[39m \u001b[43madapter\u001b[49m\u001b[38;5;241;43m.\u001b[39;49m\u001b[43msend\u001b[49m\u001b[43m(\u001b[49m\u001b[43mrequest\u001b[49m\u001b[43m,\u001b[49m\u001b[43m \u001b[49m\u001b[38;5;241;43m*\u001b[39;49m\u001b[38;5;241;43m*\u001b[39;49m\u001b[43mkwargs\u001b[49m\u001b[43m)\u001b[49m\n\u001b[1;32m    705\u001b[0m \u001b[38;5;66;03m# Total elapsed time of the request (approximately)\u001b[39;00m\n",
      "File \u001b[0;32m/opt/homebrew/anaconda3/envs/econcs/lib/python3.9/site-packages/requests/adapters.py:510\u001b[0m, in \u001b[0;36mHTTPAdapter.send\u001b[0;34m(self, request, stream, timeout, verify, cert, proxies)\u001b[0m\n\u001b[1;32m    509\u001b[0m \u001b[38;5;28;01mif\u001b[39;00m \u001b[38;5;28misinstance\u001b[39m(e\u001b[38;5;241m.\u001b[39mreason, ResponseError):\n\u001b[0;32m--> 510\u001b[0m     \u001b[38;5;28;01mraise\u001b[39;00m RetryError(e, request\u001b[38;5;241m=\u001b[39mrequest)\n\u001b[1;32m    512\u001b[0m \u001b[38;5;28;01mif\u001b[39;00m \u001b[38;5;28misinstance\u001b[39m(e\u001b[38;5;241m.\u001b[39mreason, _ProxyError):\n",
      "\u001b[0;31mRetryError\u001b[0m: HTTPSConnectionPool(host='api.spotify.com', port=443): Max retries exceeded with url: /v1/recommendations?limit=10&seed_genres=pop&min_acousticness=0.45&max_acousticness=0.47&target_acousticness=0.4&target_danceability=0.7&target_duration_ms=0&target_energy=0.8&target_instrumentalness=0.0&target_key=5&target_liveness=0.1&target_loudness=-5.0&target_mode=0&target_popularity=0&target_speechiness=0.05&target_tempo=120&target_valence=0.5 (Caused by ResponseError('too many 429 error responses'))",
      "\nDuring handling of the above exception, another exception occurred:\n",
      "\u001b[0;31mSpotifyException\u001b[0m                          Traceback (most recent call last)",
      "Cell \u001b[0;32mIn[267], line 21\u001b[0m\n\u001b[1;32m      2\u001b[0m features_targets \u001b[38;5;241m=\u001b[39m {\n\u001b[1;32m      3\u001b[0m     \u001b[38;5;124m'\u001b[39m\u001b[38;5;124mtarget_acousticness\u001b[39m\u001b[38;5;124m'\u001b[39m: \u001b[38;5;241m0.4\u001b[39m,\n\u001b[1;32m      4\u001b[0m     \u001b[38;5;124m'\u001b[39m\u001b[38;5;124mtarget_danceability\u001b[39m\u001b[38;5;124m'\u001b[39m: \u001b[38;5;241m0.7\u001b[39m,\n\u001b[0;32m   (...)\u001b[0m\n\u001b[1;32m     17\u001b[0m     \u001b[38;5;124m'\u001b[39m\u001b[38;5;124mtarget_duration_ms\u001b[39m\u001b[38;5;124m'\u001b[39m : \u001b[38;5;241m0\u001b[39m\n\u001b[1;32m     18\u001b[0m }\n\u001b[1;32m     20\u001b[0m \u001b[38;5;66;03m# Get recommendations based on the specified features\u001b[39;00m\n\u001b[0;32m---> 21\u001b[0m recommendations \u001b[38;5;241m=\u001b[39m \u001b[43msp\u001b[49m\u001b[38;5;241;43m.\u001b[39;49m\u001b[43mrecommendations\u001b[49m\u001b[43m(\u001b[49m\u001b[43mseed_genres\u001b[49m\u001b[38;5;241;43m=\u001b[39;49m\u001b[43m[\u001b[49m\u001b[38;5;124;43m\"\u001b[39;49m\u001b[38;5;124;43mpop\u001b[39;49m\u001b[38;5;124;43m\"\u001b[39;49m\u001b[43m]\u001b[49m\u001b[43m,\u001b[49m\u001b[43m \u001b[49m\u001b[43mlimit\u001b[49m\u001b[38;5;241;43m=\u001b[39;49m\u001b[38;5;241;43m10\u001b[39;49m\u001b[43m,\u001b[49m\u001b[43m \u001b[49m\u001b[38;5;241;43m*\u001b[39;49m\u001b[38;5;241;43m*\u001b[39;49m\u001b[43mfeatures_targets\u001b[49m\u001b[43m)\u001b[49m\n\u001b[1;32m     23\u001b[0m \u001b[38;5;66;03m# Extract track IDs from the recommendations\u001b[39;00m\n\u001b[1;32m     24\u001b[0m track_ids \u001b[38;5;241m=\u001b[39m [track[\u001b[38;5;124m'\u001b[39m\u001b[38;5;124mid\u001b[39m\u001b[38;5;124m'\u001b[39m] \u001b[38;5;28;01mfor\u001b[39;00m track \u001b[38;5;129;01min\u001b[39;00m recommendations[\u001b[38;5;124m'\u001b[39m\u001b[38;5;124mtracks\u001b[39m\u001b[38;5;124m'\u001b[39m]]\n",
      "File \u001b[0;32m/opt/homebrew/anaconda3/envs/econcs/lib/python3.9/site-packages/spotipy/client.py:1712\u001b[0m, in \u001b[0;36mSpotify.recommendations\u001b[0;34m(self, seed_artists, seed_genres, seed_tracks, limit, country, **kwargs)\u001b[0m\n\u001b[1;32m   1710\u001b[0m         \u001b[38;5;28;01mif\u001b[39;00m param \u001b[38;5;129;01min\u001b[39;00m kwargs:\n\u001b[1;32m   1711\u001b[0m             params[param] \u001b[38;5;241m=\u001b[39m kwargs[param]\n\u001b[0;32m-> 1712\u001b[0m \u001b[38;5;28;01mreturn\u001b[39;00m \u001b[38;5;28;43mself\u001b[39;49m\u001b[38;5;241;43m.\u001b[39;49m\u001b[43m_get\u001b[49m\u001b[43m(\u001b[49m\u001b[38;5;124;43m\"\u001b[39;49m\u001b[38;5;124;43mrecommendations\u001b[39;49m\u001b[38;5;124;43m\"\u001b[39;49m\u001b[43m,\u001b[49m\u001b[43m \u001b[49m\u001b[38;5;241;43m*\u001b[39;49m\u001b[38;5;241;43m*\u001b[39;49m\u001b[43mparams\u001b[49m\u001b[43m)\u001b[49m\n",
      "File \u001b[0;32m/opt/homebrew/anaconda3/envs/econcs/lib/python3.9/site-packages/spotipy/client.py:323\u001b[0m, in \u001b[0;36mSpotify._get\u001b[0;34m(self, url, args, payload, **kwargs)\u001b[0m\n\u001b[1;32m    320\u001b[0m \u001b[38;5;28;01mif\u001b[39;00m args:\n\u001b[1;32m    321\u001b[0m     kwargs\u001b[38;5;241m.\u001b[39mupdate(args)\n\u001b[0;32m--> 323\u001b[0m \u001b[38;5;28;01mreturn\u001b[39;00m \u001b[38;5;28;43mself\u001b[39;49m\u001b[38;5;241;43m.\u001b[39;49m\u001b[43m_internal_call\u001b[49m\u001b[43m(\u001b[49m\u001b[38;5;124;43m\"\u001b[39;49m\u001b[38;5;124;43mGET\u001b[39;49m\u001b[38;5;124;43m\"\u001b[39;49m\u001b[43m,\u001b[49m\u001b[43m \u001b[49m\u001b[43murl\u001b[49m\u001b[43m,\u001b[49m\u001b[43m \u001b[49m\u001b[43mpayload\u001b[49m\u001b[43m,\u001b[49m\u001b[43m \u001b[49m\u001b[43mkwargs\u001b[49m\u001b[43m)\u001b[49m\n",
      "File \u001b[0;32m/opt/homebrew/anaconda3/envs/econcs/lib/python3.9/site-packages/spotipy/client.py:307\u001b[0m, in \u001b[0;36mSpotify._internal_call\u001b[0;34m(self, method, url, payload, params)\u001b[0m\n\u001b[1;32m    305\u001b[0m     \u001b[38;5;28;01mexcept\u001b[39;00m (\u001b[38;5;167;01mIndexError\u001b[39;00m, \u001b[38;5;167;01mAttributeError\u001b[39;00m):\n\u001b[1;32m    306\u001b[0m         reason \u001b[38;5;241m=\u001b[39m \u001b[38;5;28;01mNone\u001b[39;00m\n\u001b[0;32m--> 307\u001b[0m     \u001b[38;5;28;01mraise\u001b[39;00m SpotifyException(\n\u001b[1;32m    308\u001b[0m         \u001b[38;5;241m429\u001b[39m,\n\u001b[1;32m    309\u001b[0m         \u001b[38;5;241m-\u001b[39m\u001b[38;5;241m1\u001b[39m,\n\u001b[1;32m    310\u001b[0m         \u001b[38;5;124m\"\u001b[39m\u001b[38;5;132;01m%s\u001b[39;00m\u001b[38;5;124m:\u001b[39m\u001b[38;5;130;01m\\n\u001b[39;00m\u001b[38;5;124m \u001b[39m\u001b[38;5;132;01m%s\u001b[39;00m\u001b[38;5;124m\"\u001b[39m \u001b[38;5;241m%\u001b[39m (request\u001b[38;5;241m.\u001b[39mpath_url, \u001b[38;5;124m\"\u001b[39m\u001b[38;5;124mMax Retries\u001b[39m\u001b[38;5;124m\"\u001b[39m),\n\u001b[1;32m    311\u001b[0m         reason\u001b[38;5;241m=\u001b[39mreason\n\u001b[1;32m    312\u001b[0m     )\n\u001b[1;32m    313\u001b[0m \u001b[38;5;28;01mexcept\u001b[39;00m \u001b[38;5;167;01mValueError\u001b[39;00m:\n\u001b[1;32m    314\u001b[0m     results \u001b[38;5;241m=\u001b[39m \u001b[38;5;28;01mNone\u001b[39;00m\n",
      "\u001b[0;31mSpotifyException\u001b[0m: http status: 429, code:-1 - /v1/recommendations?limit=10&seed_genres=pop&min_acousticness=0.45&max_acousticness=0.47&target_acousticness=0.4&target_danceability=0.7&target_duration_ms=0&target_energy=0.8&target_instrumentalness=0.0&target_key=5&target_liveness=0.1&target_loudness=-5.0&target_mode=0&target_popularity=0&target_speechiness=0.05&target_tempo=120&target_valence=0.5:\n Max Retries, reason: too many 429 error responses"
     ]
    }
   ],
   "source": [
    "# Define target values for the features\n",
    "features_targets = {\n",
    "    'target_acousticness': 0.4,\n",
    "    'target_danceability': 0.7,\n",
    "    'target_energy': 0.8,\n",
    "    'target_instrumentalness': 0.0,\n",
    "    'target_key': 5,\n",
    "    'target_liveness': 0.1,\n",
    "    'target_loudness': -5.0,\n",
    "    'target_speechiness': 0.05,\n",
    "    'target_tempo': 120,\n",
    "    'target_valence': 0.5,\n",
    "    'min_acousticness': 0.45, \n",
    "    'max_acousticness' : 0.47,\n",
    "    'target_mode': 0,\n",
    "    'target_popularity': 0,\n",
    "    'target_duration_ms' : 0\n",
    "}\n",
    "\n",
    "# Get recommendations based on the specified features\n",
    "recommendations = sp.recommendations(seed_genres=[\"pop\"], limit=10, **features_targets)\n",
    "\n",
    "# Extract track IDs from the recommendations\n",
    "track_ids = [track['id'] for track in recommendations['tracks']]\n",
    "\n",
    "# Fetch audio features for these tracks\n",
    "audio_features = sp.audio_features(track_ids)\n",
    "\n",
    "# Print out a vector of features for each track\n",
    "for track, features in zip(recommendations['tracks'], audio_features):\n",
    "    track_name = track['name']\n",
    "    features_vector = [\n",
    "        features['acousticness'],\n",
    "        features['danceability'],\n",
    "        features['energy'],\n",
    "        features['instrumentalness'],\n",
    "        features['key'],\n",
    "        features['liveness'],\n",
    "        features['loudness'],\n",
    "        features['speechiness'],\n",
    "        features['tempo'],\n",
    "        features['valence']\n",
    "    ]\n",
    "    print(f\"Track: {track_name} - Features Vector: {features_vector}\")"
   ]
  },
  {
   "cell_type": "markdown",
   "metadata": {},
   "source": [
    "# Experiments with current system (based on track recommendation)"
   ]
  },
  {
   "cell_type": "markdown",
   "metadata": {},
   "source": [
    "## Initialization"
   ]
  },
  {
   "cell_type": "code",
   "execution_count": 296,
   "metadata": {},
   "outputs": [
    {
     "name": "stdout",
     "output_type": "stream",
     "text": [
      "{'genres': ['acoustic', 'afrobeat', 'alt-rock', 'alternative', 'ambient', 'anime', 'black-metal', 'bluegrass', 'blues', 'bossanova', 'brazil', 'breakbeat', 'british', 'cantopop', 'chicago-house', 'children', 'chill', 'classical', 'club', 'comedy', 'country', 'dance', 'dancehall', 'death-metal', 'deep-house', 'detroit-techno', 'disco', 'disney', 'drum-and-bass', 'dub', 'dubstep', 'edm', 'electro', 'electronic', 'emo', 'folk', 'forro', 'french', 'funk', 'garage', 'german', 'gospel', 'goth', 'grindcore', 'groove', 'grunge', 'guitar', 'happy', 'hard-rock', 'hardcore', 'hardstyle', 'heavy-metal', 'hip-hop', 'holidays', 'honky-tonk', 'house', 'idm', 'indian', 'indie', 'indie-pop', 'industrial', 'iranian', 'j-dance', 'j-idol', 'j-pop', 'j-rock', 'jazz', 'k-pop', 'kids', 'latin', 'latino', 'malay', 'mandopop', 'metal', 'metal-misc', 'metalcore', 'minimal-techno', 'movies', 'mpb', 'new-age', 'new-release', 'opera', 'pagode', 'party', 'philippines-opm', 'piano', 'pop', 'pop-film', 'post-dubstep', 'power-pop', 'progressive-house', 'psych-rock', 'punk', 'punk-rock', 'r-n-b', 'rainy-day', 'reggae', 'reggaeton', 'road-trip', 'rock', 'rock-n-roll', 'rockabilly', 'romance', 'sad', 'salsa', 'samba', 'sertanejo', 'show-tunes', 'singer-songwriter', 'ska', 'sleep', 'songwriter', 'soul', 'soundtracks', 'spanish', 'study', 'summer', 'swedish', 'synth-pop', 'tango', 'techno', 'trance', 'trip-hop', 'turkish', 'work-out', 'world-music']}\n"
     ]
    }
   ],
   "source": [
    "genres = sp.recommendation_genre_seeds()\n",
    "print(genres)"
   ]
  },
  {
   "cell_type": "code",
   "execution_count": 297,
   "metadata": {},
   "outputs": [],
   "source": [
    "features_range = {\n",
    "    'acousticness': 1.0,  # A confidence measure from 0.0 to 1.0 of whether the track is acoustic.\n",
    "    'danceability': 1.0,  # How suitable a track is for dancing based on a combination of musical elements.\n",
    "    'energy': 1.0,  # A measure from 0.0 to 1.0 representing a perceptual measure of intensity and activity.\n",
    "    'instrumentalness': 1.0,  # Predicts whether a track contains no vocals.\n",
    "    # 'key': 11,  # The key the track is in. Integers map to pitches using standard Pitch Class notation.\n",
    "    'liveness': 1.0,  # Detects the presence of an audience in the recording.\n",
    "    'loudness': 60,  # The overall loudness of a track in decibels (dB).\n",
    "    # 'mode': 1,  # Modality of the track. Major is represented by 1 and minor is 0.\n",
    "    'speechiness': 1.0,  # Speechiness detects the presence of spoken words in a track.\n",
    "    'tempo': 250.0,  # The overall estimated tempo of a track in beats per minute (BPM).\n",
    "    'valence': 1.0  # A measure from 0.0 to 1.0 describing the musical positiveness conveyed by a track.\n",
    "    # 'popularity': 100,  # The popularity of the track. The value will be between 0 and 100, with 100 being the most popular.\n",
    "}"
   ]
  },
  {
   "cell_type": "code",
   "execution_count": 298,
   "metadata": {},
   "outputs": [],
   "source": [
    "def generate_random_feature_value(center, stddev=0.05, feature_type='continuous'):\n",
    "    if feature_type == 'continuous':\n",
    "        return np.random.normal(loc=center, scale=stddev)\n",
    "    elif feature_type == 'discrete':\n",
    "        return int(np.round(np.random.normal(loc=center, scale=stddev)))\n",
    "    else:\n",
    "        raise ValueError(\"Invalid feature_type. Choose 'continuous' or 'discrete'.\")\n",
    "\n",
    "def calculate_likelihood(value, center, stddev=0.05, feature_type='continuous'):\n",
    "    \"\"\"\n",
    "    Calculate the likelihood of a given value in a specified normal distribution.\n",
    "\n",
    "    Parameters:\n",
    "    - value: The value for which to calculate the likelihood.\n",
    "    - center: The mean (center) of the distribution.\n",
    "    - stddev: The standard deviation of the distribution. Default is 0.05.\n",
    "    - feature_type: The type of feature ('continuous' or 'discrete').\n",
    "\n",
    "    Returns:\n",
    "    - The likelihood (density) of the given value in the distribution.\n",
    "    \"\"\"\n",
    "    if feature_type == 'continuous':\n",
    "        # For continuous features, directly use the PDF of the normal distribution.\n",
    "        likelihood = norm.pdf(value, loc=center, scale=stddev)\n",
    "    elif feature_type == 'discrete':\n",
    "        # For discrete features, calculate the PDF at the nearest integer.\n",
    "        discrete_value = int(np.round(value))\n",
    "        likelihood = norm.pdf(discrete_value, loc=center, scale=stddev)\n",
    "    else:\n",
    "        raise ValueError(\"Invalid feature_type. Choose 'continuous' or 'discrete'.\")\n",
    "    \n",
    "    return likelihood\n",
    "\n",
    "# function to generate a random value for each feature\n",
    "def generate_random_feature_values(centers, std_devs):\n",
    "    random_values = {}\n",
    "    for feature, center in centers.items():\n",
    "        feature_type = 'discrete' if feature in ['key', 'mode'] else 'continuous'\n",
    "        random_values[feature] = generate_random_feature_value(center, stddev=std_devs[feature], feature_type=feature_type)\n",
    "    return random_values\n",
    "\n",
    "\n",
    "def calculate_all_log_likelihoods(centers, std_devs, values):\n",
    "    \"\"\"\n",
    "    Assuming that all features are independent, calculate the likelihood of the current value. \n",
    "    \"\"\"\n",
    "    total_likelihood = 1\n",
    "    for feature, center in centers.items():\n",
    "        feature_type = 'discrete' if feature in ['key', 'mode'] else 'continuous'\n",
    "        curr_likelihood = calculate_likelihood(value=values[feature], center=center, stddev=std_devs[feature], feature_type=feature_type)\n",
    "        total_likelihood += (np.log(curr_likelihood))\n",
    "    \n",
    "    return total_likelihood"
   ]
  },
  {
   "cell_type": "markdown",
   "metadata": {},
   "source": [
    "## Generate simulated \"initial\" songs"
   ]
  },
  {
   "cell_type": "code",
   "execution_count": 299,
   "metadata": {},
   "outputs": [
    {
     "data": {
      "text/plain": [
       "{'acousticness': 0.15724722886935877,\n",
       " 'danceability': 0.7131884898765714,\n",
       " 'energy': 0.8177003866543263,\n",
       " 'instrumentalness': 0.09633237258714386,\n",
       " 'liveness': 0.0678357563895716,\n",
       " 'loudness': -1.486258533196017,\n",
       " 'speechiness': 0.044783936005196257,\n",
       " 'tempo': 104.581468076382,\n",
       " 'valence': 0.3215095750865081}"
      ]
     },
     "execution_count": 299,
     "metadata": {},
     "output_type": "execute_result"
    }
   ],
   "source": [
    "genre_set = ['acoustic', 'folk', 'pop', 'rock-n-roll']\n",
    "true_centers = {\n",
    "    'acousticness': 0.2,\n",
    "    'danceability': 0.7,\n",
    "    'energy': 0.8,\n",
    "    'instrumentalness': 0.1,\n",
    "    # 'key': 5,  # Discrete\n",
    "    'liveness': 0.1,\n",
    "    'loudness': -5.0,\n",
    "    'speechiness': 0.05,\n",
    "    'tempo': 120,\n",
    "    'valence': 0.3\n",
    "    # 'mode': 0,  # Discrete, binary\n",
    "    # 'popularity': 50  # Assuming a median popularity for demonstration\n",
    "}\n",
    "\n",
    "std_devs = {\n",
    "    'acousticness': 0.05,\n",
    "    'danceability': 0.05,\n",
    "    'energy': 0.05,\n",
    "    'instrumentalness': 0.01,\n",
    "    # 'key': 1,  # Discrete, but simulated with spread\n",
    "    'liveness': 0.05,\n",
    "    'loudness': 2.0,\n",
    "    'speechiness': 0.01,\n",
    "    'tempo': 10,\n",
    "    'valence': 0.05\n",
    "    # 'mode': 0.5,  # Not applicable for binary, but included for consistency\n",
    "    # 'popularity': 10\n",
    "}\n",
    "\n",
    "# Generate random values for all features\n",
    "random_feature_values = generate_random_feature_values(true_centers, std_devs)\n",
    "random_feature_values\n",
    "# random_feature_values_scaled = {}\n",
    "\n",
    "\n",
    "# for key, val in random_feature_values.items():\n",
    "#     random_feature_values_scaled.update({key : (val / features_range[key])})\n",
    "\n",
    "# random_feature_values_scaled"
   ]
  },
  {
   "cell_type": "code",
   "execution_count": 300,
   "metadata": {},
   "outputs": [
    {
     "name": "stdout",
     "output_type": "stream",
     "text": [
      "Track: Blue Suede Shoes - Features Likelihood: -186.77387798623042\n",
      "Track: Tutti Frutti - Features Likelihood: -228.8489820376499\n",
      "Track: God's Plan - Features Likelihood: -137.08679762469993\n",
      "Track: Dark Horse - Features Likelihood: -55.96230355764992\n",
      "Track: Lights - Single Version - Features Likelihood: -58.044184177649925\n",
      "Track: LIKE I WOULD - Features Likelihood: -72.89503297764992\n",
      "Track: Run Up (feat. PARTYNEXTDOOR & Nicki Minaj) - Features Likelihood: -71.22880798012191\n",
      "Track: Human - Features Likelihood: -65.98292071764989\n",
      "Track: Work - Features Likelihood: -80.85897121264989\n",
      "Track: Bang My Head (feat. Sia & Fetty Wap) - Features Likelihood: -58.761882562649895\n",
      "Track: Sweet Dreams (Are Made Of This) - Features Likelihood: -inf\n",
      "Track: Run to the Hills - 1998 Remaster - Features Likelihood: -124.7392267426499\n",
      "Track: Brown Sugar - Features Likelihood: -130.38000882909986\n",
      "Track: The Twist (Rerecorded) - Features Likelihood: -151.9674591126499\n",
      "Track: Supermassive Black Hole - Features Likelihood: -104.26059656264991\n",
      "Track: All I Have to Do Is Dream - Single Version; 2006 Remaster - Features Likelihood: -169.43658261264991\n",
      "Track: No Lie - Features Likelihood: -74.6712778326499\n",
      "Track: Someone New - Features Likelihood: -122.81446780462787\n",
      "Track: All Time Low - Features Likelihood: -70.62498791264991\n",
      "Track: Let It Go - Features Likelihood: -175.26403717389988\n"
     ]
    },
    {
     "name": "stderr",
     "output_type": "stream",
     "text": [
      "/var/folders/tl/4hmmdc557x30002rq60f6vfm0000gn/T/ipykernel_98636/1543426554.py:51: RuntimeWarning: divide by zero encountered in log\n",
      "  total_likelihood += (np.log(curr_likelihood))\n"
     ]
    }
   ],
   "source": [
    "recommendations = sp.recommendations(seed_genres=[\"pop\", 'rock-n-roll'], **random_feature_values)\n",
    "\n",
    "# Extract track IDs from the recommendations\n",
    "track_ids = [track['id'] for track in recommendations['tracks']]\n",
    "\n",
    "# Fetch audio features for these tracks\n",
    "audio_features = sp.audio_features(track_ids)\n",
    "\n",
    "track_likelihoods = []\n",
    "\n",
    "# Print out a vector of features for each track\n",
    "for track, features in zip(recommendations['tracks'], audio_features):\n",
    "    track_name = track['name']\n",
    "    features_vector = {\n",
    "        'acousticness' : features['acousticness'],\n",
    "        'danceability' : features['danceability'],\n",
    "        'energy' : features['energy'],\n",
    "        'instrumentalness' : features['instrumentalness'],\n",
    "        'liveness' : features['liveness'],\n",
    "        'loudness' : features['loudness'],\n",
    "        'speechiness' : features['speechiness'],\n",
    "        'tempo' : features['tempo'],\n",
    "        'valence' : features['valence']\n",
    "        # features['popularity'] / features_range['popularity']\n",
    "    }\n",
    "    \n",
    "    # difference = np.linalg.norm(np.array(features_vector) - np.array(list(random_feature_values_scaled.values())))\n",
    "    # if difference < 0.5: \n",
    "    #     accept_set.append(track['id'])\n",
    "    likelihood = calculate_all_log_likelihoods(values=features_vector, centers=true_centers, std_devs=std_devs)\n",
    "    track_likelihoods.append((track_id, likelihood))\n",
    "    print(f\"Track: {track_name} - Features Likelihood: {likelihood}\")\n",
    "    # print(f\"Track: {track_name} - Features Vector: {features_vector}\")\n",
    "    \n",
    "track_likelihoods.sort(key=lambda x: x[1], reverse=True)\n",
    "top_five_tracks = track_likelihoods[:5]\n",
    "accept_set = [track_id for track_id, _ in top_five_tracks]"
   ]
  },
  {
   "cell_type": "markdown",
   "metadata": {},
   "source": [
    "## Spotify's naive recommendation based on accepted songs"
   ]
  },
  {
   "cell_type": "code",
   "execution_count": 301,
   "metadata": {},
   "outputs": [
    {
     "name": "stdout",
     "output_type": "stream",
     "text": [
      "AT ITERATION 0, TRACK_IDS: 10\n",
      "AT ITERATION 1, TRACK_IDS: 10\n",
      "AT ITERATION 2, TRACK_IDS: 10\n",
      "AT ITERATION 3, TRACK_IDS: 10\n"
     ]
    },
    {
     "name": "stderr",
     "output_type": "stream",
     "text": [
      "/var/folders/tl/4hmmdc557x30002rq60f6vfm0000gn/T/ipykernel_98636/1543426554.py:51: RuntimeWarning: divide by zero encountered in log\n",
      "  total_likelihood += (np.log(curr_likelihood))\n"
     ]
    },
    {
     "name": "stdout",
     "output_type": "stream",
     "text": [
      "AT ITERATION 4, TRACK_IDS: 10\n",
      "AT ITERATION 5, TRACK_IDS: 10\n",
      "AT ITERATION 6, TRACK_IDS: 10\n",
      "AT ITERATION 7, TRACK_IDS: 10\n",
      "AT ITERATION 8, TRACK_IDS: 10\n",
      "AT ITERATION 9, TRACK_IDS: 10\n",
      "AT ITERATION 10, TRACK_IDS: 10\n",
      "AT ITERATION 11, TRACK_IDS: 10\n",
      "AT ITERATION 12, TRACK_IDS: 10\n",
      "AT ITERATION 13, TRACK_IDS: 10\n",
      "AT ITERATION 14, TRACK_IDS: 10\n",
      "AT ITERATION 15, TRACK_IDS: 10\n",
      "AT ITERATION 16, TRACK_IDS: 10\n",
      "AT ITERATION 17, TRACK_IDS: 10\n",
      "AT ITERATION 18, TRACK_IDS: 10\n",
      "AT ITERATION 19, TRACK_IDS: 10\n",
      "AT ITERATION 20, TRACK_IDS: 10\n",
      "AT ITERATION 21, TRACK_IDS: 10\n",
      "AT ITERATION 22, TRACK_IDS: 10\n",
      "AT ITERATION 23, TRACK_IDS: 10\n",
      "AT ITERATION 24, TRACK_IDS: 10\n",
      "AT ITERATION 25, TRACK_IDS: 10\n",
      "AT ITERATION 26, TRACK_IDS: 10\n",
      "AT ITERATION 27, TRACK_IDS: 10\n",
      "AT ITERATION 28, TRACK_IDS: 10\n",
      "AT ITERATION 29, TRACK_IDS: 10\n",
      "AT ITERATION 30, TRACK_IDS: 10\n",
      "AT ITERATION 31, TRACK_IDS: 10\n",
      "AT ITERATION 32, TRACK_IDS: 10\n",
      "AT ITERATION 33, TRACK_IDS: 10\n",
      "AT ITERATION 34, TRACK_IDS: 10\n",
      "AT ITERATION 35, TRACK_IDS: 10\n",
      "AT ITERATION 36, TRACK_IDS: 10\n",
      "AT ITERATION 37, TRACK_IDS: 10\n",
      "AT ITERATION 38, TRACK_IDS: 10\n",
      "AT ITERATION 39, TRACK_IDS: 10\n",
      "AT ITERATION 40, TRACK_IDS: 10\n",
      "AT ITERATION 41, TRACK_IDS: 10\n",
      "AT ITERATION 42, TRACK_IDS: 10\n",
      "AT ITERATION 43, TRACK_IDS: 10\n",
      "AT ITERATION 44, TRACK_IDS: 10\n",
      "AT ITERATION 45, TRACK_IDS: 10\n",
      "AT ITERATION 46, TRACK_IDS: 10\n",
      "AT ITERATION 47, TRACK_IDS: 10\n",
      "AT ITERATION 48, TRACK_IDS: 10\n",
      "AT ITERATION 49, TRACK_IDS: 10\n",
      "AT ITERATION 50, TRACK_IDS: 10\n",
      "AT ITERATION 51, TRACK_IDS: 10\n",
      "AT ITERATION 52, TRACK_IDS: 10\n",
      "AT ITERATION 53, TRACK_IDS: 10\n",
      "AT ITERATION 54, TRACK_IDS: 10\n",
      "AT ITERATION 55, TRACK_IDS: 10\n",
      "AT ITERATION 56, TRACK_IDS: 10\n",
      "AT ITERATION 57, TRACK_IDS: 10\n",
      "AT ITERATION 58, TRACK_IDS: 10\n",
      "AT ITERATION 59, TRACK_IDS: 10\n",
      "AT ITERATION 60, TRACK_IDS: 10\n",
      "AT ITERATION 61, TRACK_IDS: 10\n",
      "AT ITERATION 62, TRACK_IDS: 10\n",
      "AT ITERATION 63, TRACK_IDS: 10\n",
      "AT ITERATION 64, TRACK_IDS: 10\n",
      "AT ITERATION 65, TRACK_IDS: 10\n",
      "AT ITERATION 66, TRACK_IDS: 10\n",
      "AT ITERATION 67, TRACK_IDS: 10\n",
      "AT ITERATION 68, TRACK_IDS: 10\n",
      "AT ITERATION 69, TRACK_IDS: 10\n",
      "AT ITERATION 70, TRACK_IDS: 10\n",
      "AT ITERATION 71, TRACK_IDS: 10\n",
      "AT ITERATION 72, TRACK_IDS: 10\n",
      "AT ITERATION 73, TRACK_IDS: 10\n",
      "AT ITERATION 74, TRACK_IDS: 10\n",
      "AT ITERATION 75, TRACK_IDS: 10\n",
      "AT ITERATION 76, TRACK_IDS: 10\n",
      "AT ITERATION 77, TRACK_IDS: 10\n",
      "AT ITERATION 78, TRACK_IDS: 10\n",
      "AT ITERATION 79, TRACK_IDS: 10\n",
      "AT ITERATION 80, TRACK_IDS: 10\n",
      "AT ITERATION 81, TRACK_IDS: 10\n",
      "AT ITERATION 82, TRACK_IDS: 10\n",
      "AT ITERATION 83, TRACK_IDS: 10\n",
      "AT ITERATION 84, TRACK_IDS: 10\n",
      "AT ITERATION 85, TRACK_IDS: 10\n",
      "AT ITERATION 86, TRACK_IDS: 10\n",
      "AT ITERATION 87, TRACK_IDS: 10\n",
      "AT ITERATION 88, TRACK_IDS: 10\n",
      "AT ITERATION 89, TRACK_IDS: 10\n",
      "AT ITERATION 90, TRACK_IDS: 10\n",
      "AT ITERATION 91, TRACK_IDS: 10\n",
      "AT ITERATION 92, TRACK_IDS: 10\n",
      "AT ITERATION 93, TRACK_IDS: 10\n",
      "AT ITERATION 94, TRACK_IDS: 10\n",
      "AT ITERATION 95, TRACK_IDS: 10\n",
      "AT ITERATION 96, TRACK_IDS: 10\n",
      "AT ITERATION 97, TRACK_IDS: 10\n",
      "AT ITERATION 98, TRACK_IDS: 10\n",
      "AT ITERATION 99, TRACK_IDS: 10\n"
     ]
    },
    {
     "data": {
      "text/plain": [
       "[<matplotlib.lines.Line2D at 0x7fa5b9f927f0>]"
      ]
     },
     "execution_count": 301,
     "metadata": {},
     "output_type": "execute_result"
    },
    {
     "data": {
      "image/png": "[encoded data removed]",
      "text/plain": [
       "<Figure size 640x480 with 1 Axes>"
      ]
     },
     "metadata": {},
     "output_type": "display_data"
    }
   ],
   "source": [
    "average_lst = []\n",
    "\n",
    "for i in range(100):\n",
    "    time.sleep(1)\n",
    "    recommendations = sp.recommendations(seed_tracks=accept_set, limit=10)\n",
    "\n",
    "    # Sanity Clear...\n",
    "    track_ids = []\n",
    "    track_ids = [track['id'] for track in recommendations['tracks']]\n",
    "    print(f\"AT ITERATION {i}, TRACK_IDS: {len(track_ids)}\")\n",
    "    \n",
    "    # Fetch audio features for these tracks\n",
    "    audio_features = sp.audio_features(track_ids)\n",
    "\n",
    "    track_likelihoods = []\n",
    "\n",
    "    # Print out a vector of features for each track\n",
    "    for track, features in zip(recommendations['tracks'], audio_features):\n",
    "        track_name = track['name']\n",
    "        features_vector = {\n",
    "            'acousticness' : features['acousticness'],\n",
    "            'danceability' : features['danceability'],\n",
    "            'energy' : features['energy'],\n",
    "            'instrumentalness' : features['instrumentalness'],\n",
    "            'liveness' : features['liveness'],\n",
    "            'loudness' : features['loudness'],\n",
    "            'speechiness' : features['speechiness'],\n",
    "            'tempo' : features['tempo'],\n",
    "            'valence' : features['valence']\n",
    "            # features['popularity']\n",
    "        }\n",
    "        \n",
    "        # difference = np.linalg.norm(np.array(features_vector) - np.array(list(random_feature_values_scaled.values())))\n",
    "        # if difference < 0.5: \n",
    "        #     accept_set.append(track['id'])\n",
    "        likelihood = calculate_all_log_likelihoods(values=features_vector, centers=true_centers, std_devs=std_devs)\n",
    "        track_likelihoods.append((track_id, likelihood))\n",
    "        # print(f\"Track: {track_name} - Features Likelihood: {likelihood}\")\n",
    "        # print(f\"Track: {track_name} - Features Vector: {features_vector}\")\n",
    "        \n",
    "    track_likelihoods.sort(key=lambda x: x[1], reverse=True)\n",
    "    \n",
    "    top_five_tracks = track_likelihoods[:5]\n",
    "    top_five_likelihoods = [likelihood for _, likelihood in top_five_tracks]\n",
    "    \n",
    "    average_lst.append(np.mean(top_five_likelihoods))\n",
    "    accept_set = [track_id for track_id, _ in top_five_tracks]\n",
    "\n",
    "plt.plot(average_lst)"
   ]
  },
  {
   "cell_type": "code",
   "execution_count": null,
   "metadata": {},
   "outputs": [
    {
     "data": {
      "text/plain": [
       "13.92282266735009"
      ]
     },
     "execution_count": 237,
     "metadata": {},
     "output_type": "execute_result"
    }
   ],
   "source": [
    "calculate_all_log_likelihoods(centers=true_centers, std_devs=std_devs, values=true_centers)"
   ]
  },
  {
   "cell_type": "markdown",
   "metadata": {},
   "source": [
    "## Generate parameter inputs to recommendation system"
   ]
  },
  {
   "cell_type": "code",
   "execution_count": 306,
   "metadata": {},
   "outputs": [],
   "source": [
    "def generate_random_parameter(dists, weights):\n",
    "    \"\"\"\n",
    "    Given C_{ij} for some j, and the corresponding weights B_i,\n",
    "    generate a value v_j as the input. \n",
    "    \n",
    "    Parameters:\n",
    "    - dists: A list of callables, each generating samples from a distribution.\n",
    "    - weights: A list of probabilities, corresponding to the distributions in `dists`.\n",
    "    \n",
    "    Returns:\n",
    "    - A single value generated from one of the distributions, selected based on `weights`.\n",
    "    \"\"\"\n",
    "    # Ensure that the weights sum to 1\n",
    "    weights = np.array(weights) / np.sum(weights)\n",
    "    \n",
    "    # Choose one distribution based on the weights\n",
    "    chosen_dist_index = np.random.choice(len(dists), p=weights)\n",
    "    \n",
    "    # Generate and return a single value from the chosen distribution\n",
    "    return dists[chosen_dist_index]()\n",
    "\n",
    "# # Example usage\n",
    "# # Define two distributions\n",
    "# distA = lambda: np.random.normal(0, 1)  # Mean 0, StdDev 1\n",
    "# distB = lambda: np.random.normal(5, 1)  # Mean 5, StdDev 1\n",
    "\n",
    "# # Define weights for the distributions\n",
    "# weights = [0, 1]\n",
    "\n",
    "# # Generate a random parameter based on the distributions and weights\n",
    "# random_value = generate_random_parameter([distA, distB], weights)\n",
    "# print(random_value)"
   ]
  },
  {
   "cell_type": "code",
   "execution_count": null,
   "metadata": {},
   "outputs": [],
   "source": []
  }
 ],
 "metadata": {
  "kernelspec": {
   "display_name": "econcs",
   "language": "python",
   "name": "python3"
  },
  "language_info": {
   "codemirror_mode": {
    "name": "ipython",
    "version": 3
   },
   "file_extension": ".py",
   "mimetype": "text/x-python",
   "name": "python",
   "nbconvert_exporter": "python",
   "pygments_lexer": "ipython3",
   "version": "3.9.18"
  }
 },
 "nbformat": 4,
 "nbformat_minor": 2
}
